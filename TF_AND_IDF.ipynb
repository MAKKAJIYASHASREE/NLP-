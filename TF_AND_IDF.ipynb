{
  "nbformat": 4,
  "nbformat_minor": 0,
  "metadata": {
    "colab": {
      "name": "TF AND  IDF",
      "provenance": [],
      "authorship_tag": "ABX9TyOBexllo5fGXIoHdED/Zf+Y",
      "include_colab_link": true
    },
    "kernelspec": {
      "name": "python3",
      "display_name": "Python 3"
    },
    "language_info": {
      "name": "python"
    }
  },
  "cells": [
    {
      "cell_type": "markdown",
      "metadata": {
        "id": "view-in-github",
        "colab_type": "text"
      },
      "source": [
        "<a href=\"https://colab.research.google.com/github/MAKKAJIYASHASREE/NLP-/blob/main/TF_AND_IDF.ipynb\" target=\"_parent\"><img src=\"https://colab.research.google.com/assets/colab-badge.svg\" alt=\"Open In Colab\"/></a>"
      ]
    },
    {
      "cell_type": "code",
      "execution_count": 19,
      "metadata": {
        "id": "_5BDbnuwM2Pk"
      },
      "outputs": [],
      "source": [
        "from sklearn.feature_extraction.text import TfidfVectorizer"
      ]
    },
    {
      "cell_type": "code",
      "source": [
        "d0 = 'My Name is Yashasree'\n",
        "d1 = 'Yashasree'\n",
        "d2 = 'Yashasree is my Name'"
      ],
      "metadata": {
        "id": "cqfPYLBBOrEW"
      },
      "execution_count": 20,
      "outputs": []
    },
    {
      "cell_type": "code",
      "source": [
        "string = [d0, d1, d2]"
      ],
      "metadata": {
        "id": "n41yDpT3Or5w"
      },
      "execution_count": 21,
      "outputs": []
    },
    {
      "cell_type": "code",
      "source": [
        "tfidf = TfidfVectorizer()"
      ],
      "metadata": {
        "id": "CC74es-aOu-z"
      },
      "execution_count": 22,
      "outputs": []
    },
    {
      "cell_type": "code",
      "source": [
        "result = tfidf.fit_transform(string)"
      ],
      "metadata": {
        "id": "8LMKEnDTOvKH"
      },
      "execution_count": 23,
      "outputs": []
    },
    {
      "cell_type": "code",
      "source": [
        "print('\\nidf values:')\n",
        "for ele1, ele2 in zip(tfidf.get_feature_names(), tfidf.idf_):\n",
        "    print(ele1, ':', ele2)\n",
        " \n",
        " "
      ],
      "metadata": {
        "colab": {
          "base_uri": "https://localhost:8080/"
        },
        "id": "ETkExJ_4O2ty",
        "outputId": "a924d080-235f-4480-ad45-4ad67ff0249c"
      },
      "execution_count": 24,
      "outputs": [
        {
          "output_type": "stream",
          "name": "stdout",
          "text": [
            "\n",
            "idf values:\n",
            "is : 1.2876820724517808\n",
            "my : 1.2876820724517808\n",
            "name : 1.2876820724517808\n",
            "yashasree : 1.0\n"
          ]
        },
        {
          "output_type": "stream",
          "name": "stderr",
          "text": [
            "/usr/local/lib/python3.7/dist-packages/sklearn/utils/deprecation.py:87: FutureWarning: Function get_feature_names is deprecated; get_feature_names is deprecated in 1.0 and will be removed in 1.2. Please use get_feature_names_out instead.\n",
            "  warnings.warn(msg, category=FutureWarning)\n"
          ]
        }
      ]
    },
    {
      "cell_type": "code",
      "source": [
        "print('\\nWord indexes:')\n",
        "print(tfidf.vocabulary_)"
      ],
      "metadata": {
        "colab": {
          "base_uri": "https://localhost:8080/"
        },
        "id": "SGC7txcoO_Nr",
        "outputId": "9ceec389-55ce-4c5f-8cc6-a6998e0685fb"
      },
      "execution_count": 25,
      "outputs": [
        {
          "output_type": "stream",
          "name": "stdout",
          "text": [
            "\n",
            "Word indexes:\n",
            "{'my': 1, 'name': 2, 'is': 0, 'yashasree': 3}\n"
          ]
        }
      ]
    },
    {
      "cell_type": "code",
      "source": [
        "print('\\ntf-idf value:')\n",
        "print(result)"
      ],
      "metadata": {
        "colab": {
          "base_uri": "https://localhost:8080/"
        },
        "id": "C0bhYUmzPCua",
        "outputId": "4974a0af-454c-42b3-8b54-7a101ae0f908"
      },
      "execution_count": 26,
      "outputs": [
        {
          "output_type": "stream",
          "name": "stdout",
          "text": [
            "\n",
            "tf-idf value:\n",
            "  (0, 3)\t0.40912286076708654\n",
            "  (0, 0)\t0.5268201732399633\n",
            "  (0, 2)\t0.5268201732399633\n",
            "  (0, 1)\t0.5268201732399633\n",
            "  (1, 3)\t1.0\n",
            "  (2, 3)\t0.40912286076708654\n",
            "  (2, 0)\t0.5268201732399633\n",
            "  (2, 2)\t0.5268201732399633\n",
            "  (2, 1)\t0.5268201732399633\n"
          ]
        }
      ]
    },
    {
      "cell_type": "code",
      "source": [
        "print('\\ntf-idf values in matrix form:')\n",
        "print(result.toarray())"
      ],
      "metadata": {
        "colab": {
          "base_uri": "https://localhost:8080/"
        },
        "id": "bf6kZi3ZPHKv",
        "outputId": "62407eb1-5f51-4dda-a97e-32c8f780fad8"
      },
      "execution_count": 27,
      "outputs": [
        {
          "output_type": "stream",
          "name": "stdout",
          "text": [
            "\n",
            "tf-idf values in matrix form:\n",
            "[[0.52682017 0.52682017 0.52682017 0.40912286]\n",
            " [0.         0.         0.         1.        ]\n",
            " [0.52682017 0.52682017 0.52682017 0.40912286]]\n"
          ]
        }
      ]
    }
  ]
}