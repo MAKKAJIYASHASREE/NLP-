{
  "nbformat": 4,
  "nbformat_minor": 0,
  "metadata": {
    "colab": {
      "name": "TF AND  IDF",
      "provenance": [],
      "authorship_tag": "ABX9TyP/Xd/Nc0841f8xwCTY2kkB",
      "include_colab_link": true
    },
    "kernelspec": {
      "name": "python3",
      "display_name": "Python 3"
    },
    "language_info": {
      "name": "python"
    }
  },
  "cells": [
    {
      "cell_type": "markdown",
      "metadata": {
        "id": "view-in-github",
        "colab_type": "text"
      },
      "source": [
        "<a href=\"https://colab.research.google.com/github/MAKKAJIYASHASREE/NLP-/blob/main/TF_AND_IDF.ipynb\" target=\"_parent\"><img src=\"https://colab.research.google.com/assets/colab-badge.svg\" alt=\"Open In Colab\"/></a>"
      ]
    },
    {
      "cell_type": "code",
      "execution_count": 10,
      "metadata": {
        "id": "_5BDbnuwM2Pk"
      },
      "outputs": [],
      "source": [
        "from sklearn.feature_extraction.text import TfidfVectorizer"
      ]
    },
    {
      "cell_type": "code",
      "source": [
        "d0 = 'My Nmae is Yashasree'\n",
        "d1 = 'Yashasree'\n",
        "d2 = 'Yashasree is my Name'"
      ],
      "metadata": {
        "id": "cqfPYLBBOrEW"
      },
      "execution_count": 11,
      "outputs": []
    },
    {
      "cell_type": "code",
      "source": [
        "string = [d0, d1, d2]"
      ],
      "metadata": {
        "id": "n41yDpT3Or5w"
      },
      "execution_count": 12,
      "outputs": []
    },
    {
      "cell_type": "code",
      "source": [
        "tfidf = TfidfVectorizer()"
      ],
      "metadata": {
        "id": "CC74es-aOu-z"
      },
      "execution_count": 13,
      "outputs": []
    },
    {
      "cell_type": "code",
      "source": [
        "result = tfidf.fit_transform(string)"
      ],
      "metadata": {
        "id": "8LMKEnDTOvKH"
      },
      "execution_count": 14,
      "outputs": []
    },
    {
      "cell_type": "code",
      "source": [
        "print('\\nidf values:')\n",
        "for ele1, ele2 in zip(tfidf.get_feature_names(), tfidf.idf_):\n",
        "    print(ele1, ':', ele2)\n",
        " \n",
        " "
      ],
      "metadata": {
        "colab": {
          "base_uri": "https://localhost:8080/"
        },
        "id": "ETkExJ_4O2ty",
        "outputId": "4e39f010-acd6-4bde-ef48-d75e916aef96"
      },
      "execution_count": 15,
      "outputs": [
        {
          "output_type": "stream",
          "name": "stdout",
          "text": [
            "\n",
            "idf values:\n",
            "is : 1.2876820724517808\n",
            "my : 1.2876820724517808\n",
            "name : 1.6931471805599454\n",
            "nmae : 1.6931471805599454\n",
            "yashasree : 1.0\n"
          ]
        },
        {
          "output_type": "stream",
          "name": "stderr",
          "text": [
            "/usr/local/lib/python3.7/dist-packages/sklearn/utils/deprecation.py:87: FutureWarning: Function get_feature_names is deprecated; get_feature_names is deprecated in 1.0 and will be removed in 1.2. Please use get_feature_names_out instead.\n",
            "  warnings.warn(msg, category=FutureWarning)\n"
          ]
        }
      ]
    },
    {
      "cell_type": "code",
      "source": [
        "print('\\nWord indexes:')\n",
        "print(tfidf.vocabulary_)"
      ],
      "metadata": {
        "colab": {
          "base_uri": "https://localhost:8080/"
        },
        "id": "SGC7txcoO_Nr",
        "outputId": "5919eca0-5093-4bb2-937f-a31d728394cd"
      },
      "execution_count": 16,
      "outputs": [
        {
          "output_type": "stream",
          "name": "stdout",
          "text": [
            "\n",
            "Word indexes:\n",
            "{'my': 1, 'nmae': 3, 'is': 0, 'yashasree': 4, 'name': 2}\n"
          ]
        }
      ]
    },
    {
      "cell_type": "code",
      "source": [
        "print('\\ntf-idf value:')\n",
        "print(result)"
      ],
      "metadata": {
        "colab": {
          "base_uri": "https://localhost:8080/"
        },
        "id": "C0bhYUmzPCua",
        "outputId": "f45eef4c-ab0c-4a00-9f3e-3da5e2df2fa0"
      },
      "execution_count": 17,
      "outputs": [
        {
          "output_type": "stream",
          "name": "stdout",
          "text": [
            "\n",
            "tf-idf value:\n",
            "  (0, 4)\t0.3731188059313277\n",
            "  (0, 0)\t0.4804583972923858\n",
            "  (0, 3)\t0.6317450542765208\n",
            "  (0, 1)\t0.4804583972923858\n",
            "  (1, 4)\t1.0\n",
            "  (2, 2)\t0.6317450542765208\n",
            "  (2, 4)\t0.3731188059313277\n",
            "  (2, 0)\t0.4804583972923858\n",
            "  (2, 1)\t0.4804583972923858\n"
          ]
        }
      ]
    },
    {
      "cell_type": "code",
      "source": [
        "print('\\ntf-idf values in matrix form:')\n",
        "print(result.toarray())"
      ],
      "metadata": {
        "colab": {
          "base_uri": "https://localhost:8080/"
        },
        "id": "bf6kZi3ZPHKv",
        "outputId": "a2e27bad-d39b-4b3a-ebc8-b9a35ffb8bbb"
      },
      "execution_count": 18,
      "outputs": [
        {
          "output_type": "stream",
          "name": "stdout",
          "text": [
            "\n",
            "tf-idf values in matrix form:\n",
            "[[0.4804584  0.4804584  0.         0.63174505 0.37311881]\n",
            " [0.         0.         0.         0.         1.        ]\n",
            " [0.4804584  0.4804584  0.63174505 0.         0.37311881]]\n"
          ]
        }
      ]
    }
  ]
}